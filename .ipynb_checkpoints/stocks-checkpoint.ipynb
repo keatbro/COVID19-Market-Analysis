{
 "cells": [
  {
   "cell_type": "code",
   "execution_count": 52,
   "metadata": {},
   "outputs": [],
   "source": [
    "# Import Dependencies\n",
    "import pandas as pd\n",
    "from config import apikey\n",
    "import requests\n",
    "import time"
   ]
  },
  {
   "cell_type": "code",
   "execution_count": 59,
   "metadata": {},
   "outputs": [
    {
     "name": "stdout",
     "output_type": "stream",
     "text": [
      "Ticker IS not found. Skipping.\n",
      "Ticker KW not found. Skipping.\n"
     ]
    }
   ],
   "source": [
    "# Setup API configuration\n",
    "base_url = f'https://www.alphavantage.co/query?function=TIME_SERIES_DAILY&symbol='\n",
    "\n",
    "tickers = {\n",
    "    'US' : '.INX',\n",
    "    'KR' : 'KF',\n",
    "    'JP' : 'EWJ',\n",
    "    'SG' : 'EWS',\n",
    "    'AU' : 'EWA',\n",
    "    'MY' : 'EWM',\n",
    "    'VN' : 'VNM',\n",
    "    'IT' : 'EWI',\n",
    "    'FR' : 'EWQ',\n",
    "    'DE' : 'EWG',\n",
    "    'ES' : 'EWP',\n",
    "    'UK' : 'EWU',\n",
    "    'CH' : 'EWL',\n",
    "    'NO' : 'ENOR',\n",
    "    'NL' : 'EWN',\n",
    "    'AT' : 'EWO',\n",
    "    'SE' : 'EWD',\n",
    "    'IS' : 'OMX',\n",
    "    'BE' : 'EWK',\n",
    "    'IL' : 'EIS',\n",
    "    'DK' : 'EDEN',\n",
    "    'TH' : 'THD',\n",
    "    'IN' : 'INDA',\n",
    "    'KW' : 'NAVKD',\n",
    "    'BH' : 'BAX',\n",
    "    'AE' : 'UAE',\n",
    "    'CA' : 'EWC',\n",
    "    'CN' : 'MCHI'\n",
    "}\n",
    "\n",
    "columns = ['country','date','price']\n",
    "df = pd.DataFrame(columns = columns)\n",
    "\n",
    "counter = 0\n",
    "\n",
    "for key, value in tickers.items():\n",
    "    \n",
    "    try:\n",
    "        query_url = base_url + value + '&apikey=' + apikey\n",
    "        response = requests.get(query_url).json()\n",
    "\n",
    "        data = response['Time Series (Daily)']\n",
    "\n",
    "        for dateValue, prices in data.items():\n",
    "            date = dateValue\n",
    "            close = data[dateValue]['4. close']\n",
    "\n",
    "            df = df.append({'country': key, \n",
    "                            'date': date,\n",
    "                            'price': close}, ignore_index=True)\n",
    "    except KeyError:\n",
    "        print(f'Ticker {key} not found. Skipping.')\n",
    "    \n",
    "    counter += 1\n",
    "    if counter == 5:\n",
    "        counter = 0\n",
    "        \n",
    "        # API only allows five requests per minute\n",
    "        time.sleep(65)"
   ]
  },
  {
   "cell_type": "code",
   "execution_count": 60,
   "metadata": {},
   "outputs": [
    {
     "data": {
      "text/html": [
       "<div>\n",
       "<style scoped>\n",
       "    .dataframe tbody tr th:only-of-type {\n",
       "        vertical-align: middle;\n",
       "    }\n",
       "\n",
       "    .dataframe tbody tr th {\n",
       "        vertical-align: top;\n",
       "    }\n",
       "\n",
       "    .dataframe thead th {\n",
       "        text-align: right;\n",
       "    }\n",
       "</style>\n",
       "<table border=\"1\" class=\"dataframe\">\n",
       "  <thead>\n",
       "    <tr style=\"text-align: right;\">\n",
       "      <th></th>\n",
       "      <th>country</th>\n",
       "      <th>date</th>\n",
       "      <th>price</th>\n",
       "    </tr>\n",
       "  </thead>\n",
       "  <tbody>\n",
       "    <tr>\n",
       "      <th>0</th>\n",
       "      <td>US</td>\n",
       "      <td>2020-03-09</td>\n",
       "      <td>2746.5601</td>\n",
       "    </tr>\n",
       "    <tr>\n",
       "      <th>1</th>\n",
       "      <td>US</td>\n",
       "      <td>2020-03-06</td>\n",
       "      <td>2972.3701</td>\n",
       "    </tr>\n",
       "    <tr>\n",
       "      <th>2</th>\n",
       "      <td>US</td>\n",
       "      <td>2020-03-05</td>\n",
       "      <td>3023.9399</td>\n",
       "    </tr>\n",
       "    <tr>\n",
       "      <th>3</th>\n",
       "      <td>US</td>\n",
       "      <td>2020-03-04</td>\n",
       "      <td>3130.1201</td>\n",
       "    </tr>\n",
       "    <tr>\n",
       "      <th>4</th>\n",
       "      <td>US</td>\n",
       "      <td>2020-03-03</td>\n",
       "      <td>3003.3701</td>\n",
       "    </tr>\n",
       "  </tbody>\n",
       "</table>\n",
       "</div>"
      ],
      "text/plain": [
       "  country        date      price\n",
       "0      US  2020-03-09  2746.5601\n",
       "1      US  2020-03-06  2972.3701\n",
       "2      US  2020-03-05  3023.9399\n",
       "3      US  2020-03-04  3130.1201\n",
       "4      US  2020-03-03  3003.3701"
      ]
     },
     "execution_count": 60,
     "metadata": {},
     "output_type": "execute_result"
    }
   ],
   "source": [
    "df.to_csv('stock_data.csv', index=False, header=True)\n",
    "\n",
    "df.head()"
   ]
  },
  {
   "cell_type": "code",
   "execution_count": null,
   "metadata": {},
   "outputs": [],
   "source": []
  }
 ],
 "metadata": {
  "kernelspec": {
   "display_name": "Python 3",
   "language": "python",
   "name": "python3"
  },
  "language_info": {
   "codemirror_mode": {
    "name": "ipython",
    "version": 3
   },
   "file_extension": ".py",
   "mimetype": "text/x-python",
   "name": "python",
   "nbconvert_exporter": "python",
   "pygments_lexer": "ipython3",
   "version": "3.6.9"
  }
 },
 "nbformat": 4,
 "nbformat_minor": 2
}
