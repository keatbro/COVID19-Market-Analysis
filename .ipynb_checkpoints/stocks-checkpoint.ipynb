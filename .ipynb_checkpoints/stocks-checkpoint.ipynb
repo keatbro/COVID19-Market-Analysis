{
 "cells": [
  {
   "cell_type": "code",
   "execution_count": 15,
   "metadata": {},
   "outputs": [],
   "source": [
    "# Import Dependencies\n",
    "import pandas as pd\n",
    "from config import apikey\n",
    "import requests"
   ]
  },
  {
   "cell_type": "code",
   "execution_count": 28,
   "metadata": {},
   "outputs": [
    {
     "data": {
      "text/html": [
       "<div>\n",
       "<style scoped>\n",
       "    .dataframe tbody tr th:only-of-type {\n",
       "        vertical-align: middle;\n",
       "    }\n",
       "\n",
       "    .dataframe tbody tr th {\n",
       "        vertical-align: top;\n",
       "    }\n",
       "\n",
       "    .dataframe thead th {\n",
       "        text-align: right;\n",
       "    }\n",
       "</style>\n",
       "<table border=\"1\" class=\"dataframe\">\n",
       "  <thead>\n",
       "    <tr style=\"text-align: right;\">\n",
       "      <th></th>\n",
       "      <th>country</th>\n",
       "      <th>date</th>\n",
       "      <th>close</th>\n",
       "    </tr>\n",
       "  </thead>\n",
       "  <tbody>\n",
       "  </tbody>\n",
       "</table>\n",
       "</div>"
      ],
      "text/plain": [
       "Empty DataFrame\n",
       "Columns: [country, date, close]\n",
       "Index: []"
      ]
     },
     "execution_count": 28,
     "metadata": {},
     "output_type": "execute_result"
    }
   ],
   "source": [
    "# Setup API configuration\n",
    "base_url = f'https://www.alphavantage.co/query?function=TIME_SERIES_DAILY&symbol='\n",
    "\n",
    "# tickers = {\n",
    "#     'USA' : '.INX',\n",
    "#     'Korea' : 'KF',\n",
    "#     'Japan' : 'EWJ',\n",
    "#     'Singapore' : 'EWS',\n",
    "#     'Australia' : 'EWA',\n",
    "#     'Malaysia' : 'EWM',\n",
    "#     'Vietnam' : 'VNM',\n",
    "#     'Italy' : 'EWI',\n",
    "#     'France' : 'EWQ',\n",
    "#     'Germany' : 'EWG',\n",
    "#     'Spain' : 'EWP',\n",
    "#     'UK' : 'EWU',\n",
    "#     'Switzerland' : 'EWL',\n",
    "#     'Norway' : 'ENOR',\n",
    "#     'Netherlands' : 'EWN',\n",
    "#     'Austria' : 'EWO',\n",
    "#     'Sweden' : 'EWD',\n",
    "#     'Iceland' : 'OMX',\n",
    "#     'Belgium' : 'EWK',\n",
    "#     'Israel' : 'EIS',\n",
    "#     'Denmark' : 'EDEN',\n",
    "#     'Thailand' : 'THD',\n",
    "#     'India' : 'INDA',\n",
    "#     'Kuwait' : 'NAVKD',\n",
    "#     'Bahrain' : 'BAX',\n",
    "#     'UAE' : 'UAE',\n",
    "#     'Canada' : 'EWC',\n",
    "#     'China' : 'MCHI'\n",
    "# }\n",
    "\n",
    "tickers = {\n",
    "    'USA' : 'MSFT'\n",
    "}\n",
    "\n",
    "df = pd.DataFrame()\n",
    "\n",
    "for key, value in tickers.items():\n",
    "\n",
    "    query_url = base_url + value + '&apikey=' + apikey\n",
    "    \n",
    "    response = requests.get(query_url).json()\n",
    "\n",
    "    ticker = response['Meta Data']['2. Symbol']\n",
    "\n",
    "    data = response['Time Series (Daily)']\n",
    "\n",
    "    for key, value in data.items():\n",
    "        date = key\n",
    "        close = data[date]['4. close']\n",
    "\n",
    "        df['country'] = key\n",
    "        df['date'] = date\n",
    "        df['close'] = close\n",
    "    \n",
    "\n",
    "df\n",
    "\n",
    "# thisDict = {\n",
    "#     {USA: [\n",
    "#         '2020-03-5': price,\n",
    "#         '2020-03-4': price,\n",
    "#         '2020-03-3': price,\n",
    "#         '2020-03-2': price,\n",
    "#         '2020-03-1': price,\n",
    "#     ]},\n",
    "#     {India: [\n",
    "#         '2020-03-5': price,\n",
    "#         '2020-03-4': price,\n",
    "#         '2020-03-3': price,\n",
    "#         '2020-03-2': price,\n",
    "#         '2020-03-1': price, \n",
    "#     ]}\n",
    "# }\n",
    "\n",
    "\n",
    "# dates\n"
   ]
  },
  {
   "cell_type": "code",
   "execution_count": 14,
   "metadata": {},
   "outputs": [
    {
     "ename": "SyntaxError",
     "evalue": "invalid syntax (<ipython-input-14-8374854e1d09>, line 1)",
     "output_type": "error",
     "traceback": [
      "\u001b[1;36m  File \u001b[1;32m\"<ipython-input-14-8374854e1d09>\"\u001b[1;36m, line \u001b[1;32m1\u001b[0m\n\u001b[1;33m    USA            India        China\u001b[0m\n\u001b[1;37m                       ^\u001b[0m\n\u001b[1;31mSyntaxError\u001b[0m\u001b[1;31m:\u001b[0m invalid syntax\n"
     ]
    }
   ],
   "source": []
  },
  {
   "cell_type": "code",
   "execution_count": null,
   "metadata": {},
   "outputs": [],
   "source": []
  }
 ],
 "metadata": {
  "kernelspec": {
   "display_name": "Python 3",
   "language": "python",
   "name": "python3"
  },
  "language_info": {
   "codemirror_mode": {
    "name": "ipython",
    "version": 3
   },
   "file_extension": ".py",
   "mimetype": "text/x-python",
   "name": "python",
   "nbconvert_exporter": "python",
   "pygments_lexer": "ipython3",
   "version": "3.6.9"
  }
 },
 "nbformat": 4,
 "nbformat_minor": 2
}
