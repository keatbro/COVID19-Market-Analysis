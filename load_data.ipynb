{
 "cells": [
  {
   "cell_type": "code",
   "execution_count": 9,
   "metadata": {},
   "outputs": [],
   "source": [
    "# Import dependencies\n",
    "import psycopg2\n",
    "import pandas as pd"
   ]
  },
  {
   "cell_type": "code",
   "execution_count": 7,
   "metadata": {},
   "outputs": [
    {
     "name": "stdout",
     "output_type": "stream",
     "text": [
      "Table created successfully in PostgreSQL\n"
     ]
    }
   ],
   "source": [
    "# Connect to Postgres Database\n",
    "connection = psycopg2.connect(user = \"postgres\",\n",
    "                              password = \"postgres\",\n",
    "                              host = \"127.0.0.1\",\n",
    "                              port = \"5433\",\n",
    "                              database = \"covid_db\")\n",
    "\n",
    "cursor = connection.cursor()\n",
    "    \n",
    "# Create a table to store data\n",
    "create_table_query = '''CREATE TABLE table5\n",
    "          (id int primary key not null,\n",
    "           country text not null,\n",
    "           date date not null,\n",
    "           price float,\n",
    "           cases float); '''\n",
    "    \n",
    "cursor.execute(create_table_query)\n",
    "connection.commit()\n",
    "print(\"Table created successfully in PostgreSQL\")"
   ]
  },
  {
   "cell_type": "code",
   "execution_count": 8,
   "metadata": {},
   "outputs": [],
   "source": [
    "# Load data from merged CSV into Postgres\n",
    "file = open('stocks_and_cases.csv', 'r')\n",
    "\n",
    "cursor.copy_from(file, 'table5', columns=('id','country','date','price','cases'), sep=\",\")"
   ]
  },
  {
   "cell_type": "code",
   "execution_count": 11,
   "metadata": {},
   "outputs": [],
   "source": [
    "df = pd.read_sql('select * from table5', connection)"
   ]
  },
  {
   "cell_type": "code",
   "execution_count": 15,
   "metadata": {},
   "outputs": [
    {
     "data": {
      "text/plain": [
       "<matplotlib.axes._subplots.AxesSubplot at 0x280f712d208>"
      ]
     },
     "execution_count": 15,
     "metadata": {},
     "output_type": "execute_result"
    },
    {
     "data": {
      "image/png": "[encoded data removed]",
      "text/plain": [
       "<Figure size 432x288 with 1 Axes>"
      ]
     },
     "metadata": {
      "needs_background": "light"
     },
     "output_type": "display_data"
    }
   ],
   "source": [
    "china = pd.read_sql(\"select * from table5 where country = 'CN'\", connection)\n",
    "china.plot.scatter(x='cases',y='price')"
   ]
  },
  {
   "cell_type": "code",
   "execution_count": null,
   "metadata": {},
   "outputs": [],
   "source": []
  }
 ],
 "metadata": {
  "kernelspec": {
   "display_name": "Python 3",
   "language": "python",
   "name": "python3"
  },
  "language_info": {
   "codemirror_mode": {
    "name": "ipython",
    "version": 3
   },
   "file_extension": ".py",
   "mimetype": "text/x-python",
   "name": "python",
   "nbconvert_exporter": "python",
   "pygments_lexer": "ipython3",
   "version": "3.6.9"
  }
 },
 "nbformat": 4,
 "nbformat_minor": 2
}
