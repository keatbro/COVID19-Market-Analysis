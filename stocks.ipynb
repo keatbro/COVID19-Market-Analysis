{
 "cells": [
  {
   "cell_type": "code",
   "execution_count": 52,
   "metadata": {},
   "outputs": [],
   "source": [
    "# Import Dependencies\n",
    "import pandas as pd\n",
    "from config import apikey\n",
    "import requests\n",
    "import time"
   ]
  },
  {
   "cell_type": "code",
   "execution_count": 59,
   "metadata": {},
   "outputs": [
    {
     "name": "stdout",
     "output_type": "stream",
     "text": [
      "Ticker IS not found. Skipping.\n",
      "Ticker KW not found. Skipping.\n"
     ]
    }
   ],
   "source": [
    "# Setup API configuration\n",
    "base_url = f'https://www.alphavantage.co/query?function=TIME_SERIES_DAILY&symbol='\n",
    "\n",
    "tickers = {\n",
    "    'US' : '.INX',\n",
    "    'KR' : 'KF',\n",
    "    'JP' : 'EWJ',\n",
    "    'SG' : 'EWS',\n",
    "    'AU' : 'EWA',\n",
    "    'MY' : 'EWM',\n",
    "    'VN' : 'VNM',\n",
    "    'IT' : 'EWI',\n",
    "    'FR' : 'EWQ',\n",
    "    'DE' : 'EWG',\n",
    "    'ES' : 'EWP',\n",
    "    'UK' : 'EWU',\n",
    "    'CH' : 'EWL',\n",
    "    'NO' : 'ENOR',\n",
    "    'NL' : 'EWN',\n",
    "    'AT' : 'EWO',\n",
    "    'SE' : 'EWD',\n",
    "    'IS' : 'OMX',\n",
    "    'BE' : 'EWK',\n",
    "    'IL' : 'EIS',\n",
    "    'DK' : 'EDEN',\n",
    "    'TH' : 'THD',\n",
    "    'IN' : 'INDA',\n",
    "    'KW' : 'NAVKD',\n",
    "    'BH' : 'BAX',\n",
    "    'AE' : 'UAE',\n",
    "    'CA' : 'EWC',\n",
    "    'CN' : 'MCHI'\n",
    "}\n",
    "\n",
    "columns = ['country','date','price']\n",
    "df = pd.DataFrame(columns = columns)\n",
    "\n",
    "counter = 0\n",
    "\n",
    "for key, value in tickers.items():\n",
    "    \n",
    "    try:\n",
    "        query_url = base_url + value + '&apikey=' + apikey\n",
    "        response = requests.get(query_url).json()\n",
    "\n",
    "        data = response['Time Series (Daily)']\n",
    "\n",
    "        for dateValue, prices in data.items():\n",
    "            date = dateValue\n",
    "            close = data[dateValue]['4. close']\n",
    "\n",
    "            df = df.append({'country': key, \n",
    "                            'date': date,\n",
    "                            'price': close}, ignore_index=True)\n",
    "    except KeyError:\n",
    "        print(f'Ticker {key} not found. Skipping.')\n",
    "    \n",
    "    counter += 1\n",
    "    if counter == 5:\n",
    "        counter = 0\n",
    "        \n",
    "        # API only allows five requests per minute\n",
    "        time.sleep(65)"
   ]
  },
  {
   "cell_type": "code",
   "execution_count": 63,
   "metadata": {},
   "outputs": [],
   "source": [
    "df.to_csv('stock_data.csv', index=False, header=True)"
   ]
  },
  {
   "cell_type": "code",
   "execution_count": null,
   "metadata": {},
   "outputs": [],
   "source": []
  }
 ],
 "metadata": {
  "kernelspec": {
   "display_name": "Python 3",
   "language": "python",
   "name": "python3"
  },
  "language_info": {
   "codemirror_mode": {
    "name": "ipython",
    "version": 3
   },
   "file_extension": ".py",
   "mimetype": "text/x-python",
   "name": "python",
   "nbconvert_exporter": "python",
   "pygments_lexer": "ipython3",
   "version": "3.6.9"
  }
 },
 "nbformat": 4,
 "nbformat_minor": 2
}
